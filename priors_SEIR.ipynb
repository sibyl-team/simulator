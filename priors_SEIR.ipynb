{
 "cells": [
  {
   "cell_type": "code",
   "execution_count": 1,
   "metadata": {},
   "outputs": [
    {
     "name": "stderr",
     "output_type": "stream",
     "text": [
      "\n",
      "Bad key \"text.kerning_factor\" on line 4 in\n",
      "/opt/anaconda3/envs/bigdatalab_cpu_202101/lib/python3.7/site-packages/matplotlib/mpl-data/stylelib/_classic_test_patch.mplstyle.\n",
      "You probably need to get an updated matplotlibrc file from\n",
      "https://github.com/matplotlib/matplotlib/blob/v3.1.2/matplotlibrc.template\n",
      "or from the matplotlib source distribution\n"
     ]
    }
   ],
   "source": [
    "from pathlib import Path\n",
    "import sys\n",
    "sys.path.insert(0,'sim/lib')\n",
    "import numpy as np\n",
    "import pandas as pd\n",
    "import matplotlib.pyplot as plt\n",
    "from distributions import CovidDistributions as d\n",
    "from scipy.stats import lognorm\n",
    "from scipy.stats import gamma"
   ]
  },
  {
   "cell_type": "code",
   "execution_count": 2,
   "metadata": {},
   "outputs": [],
   "source": [
    "distr = d(\"GER\")"
   ]
  },
  {
   "cell_type": "code",
   "execution_count": 4,
   "metadata": {},
   "outputs": [],
   "source": [
    "T = 100\n",
    "times = range(T)\n",
    "#times = list(np.linspace(0,T+1,num=(T+1)*24,endpoint= False))\n",
    "num_age_groups = len(distr.p_hospital_by_age)\n",
    "asym_frac_ages = distr.alpha*np.ones(num_age_groups) ##fraction of asymptomatic nodes\n",
    "hosp_frac_ages = distr.p_hospital_by_age\n",
    "dead_frac_ages = distr.fatality_rates_by_age\n"
   ]
  },
  {
   "cell_type": "code",
   "execution_count": 10,
   "metadata": {},
   "outputs": [],
   "source": [
    "### E-> I transition\n",
    "# expo-> iasy\n",
    "mu_expo_to_iasy = distr.incubation_mean_of_lognormal-distr.median_infectious_without_symptom\n",
    "std_expo_to_iasy = distr.incubation_std_of_lognormal\n",
    "mulog_expo_to_iasy, stdlog_expo_to_iasy = d.normal_to_lognormal(d,mu = mu_expo_to_iasy,std = std_expo_to_iasy)\n",
    "p_expo_to_iasy = lognorm.pdf(times, stdlog_expo_to_iasy,scale = np.exp(mulog_expo_to_iasy))\n",
    "\n",
    "# expo -> ipre\n",
    "\n",
    "mu_expo_to_ipre = distr.incubation_mean_of_lognormal-distr.median_infectious_without_symptom\n",
    "std_expo_to_ipre = distr.incubation_std_of_lognormal\n",
    "mulog_expo_to_ipre, stdlog_expo_to_ipre = d.normal_to_lognormal(d,mu = mu_expo_to_ipre,std = std_expo_to_ipre)\n",
    "p_expo_to_ipre = lognorm.pdf(times, stdlog_expo_to_ipre,scale = np.exp(mulog_expo_to_ipre))\n",
    "\n",
    "# trace over\n",
    "tau_E_to_I = np.mean(np.outer(asym_frac_ages,p_expo_to_iasy) + np.outer(1.0 - asym_frac_ages,p_expo_to_ipre), axis = 0)"
   ]
  },
  {
   "cell_type": "code",
   "execution_count": 13,
   "metadata": {},
   "outputs": [],
   "source": [
    "### I -> R transition\n",
    "\n",
    "# iasy -> resi\n",
    "mu_iasy_to_resi = distr.median_asymp_to_resi\n",
    "std_iasy_to_resi = 1.0\n",
    "mulog_iasy_to_resi, stdlog_iasy_to_resi = d.normal_to_lognormal(d,mu = mu_iasy_to_resi,std = std_iasy_to_resi)\n",
    "p_iasy_to_resi = lognorm.pdf(times, stdlog_iasy_to_resi,scale = np.exp(mulog_iasy_to_resi))\n",
    "\n",
    "##### Ipre -> Isym -> resi #####################\n",
    "\n",
    "# ipre-> isym\n",
    "mu_ipre_to_isym = distr.median_infectious_without_symptom\n",
    "std_ipre_to_isym = 1.0\n",
    "mulog_ipre_to_isym, stdlog_ipre_to_isym = d.normal_to_lognormal(d,mu = mu_ipre_to_isym,std = std_ipre_to_isym)\n",
    "p_ipre_to_isym = lognorm.pdf(times, stdlog_ipre_to_isym,scale = np.exp(mulog_ipre_to_isym))\n",
    "\n",
    "# isym -> resi\n",
    "mu_isym_to_resi = distr.median_symp_to_resi\n",
    "std_isym_to_resi = 1.0\n",
    "mulog_isym_to_resi, stdlog_isym_to_resi = d.normal_to_lognormal(d,mu = mu_isym_to_resi,std = std_isym_to_resi)\n",
    "p_isym_to_resi = lognorm.pdf(times,stdlog_isym_to_resi,scale = np.exp(mulog_isym_to_resi))\n",
    "\n",
    "p_ipre_isym_resi = np.convolve(p_ipre_to_isym,p_isym_to_resi)[:T]\n",
    "\n",
    "##### Ipre -> Isym -> Dead #####################\n",
    "\n",
    "# isym -> dead\n",
    "mu_isym_to_dead = distr.symp_to_death_mean_of_lognormal\n",
    "std_isym_to_dead = 1.0\n",
    "mulog_isym_to_dead, stdlog_isym_to_dead = d.normal_to_lognormal(d,mu = mu_isym_to_dead,std = std_isym_to_dead)\n",
    "p_isym_to_dead = lognorm.pdf(times,stdlog_isym_to_dead,scale = np.exp(mulog_isym_to_dead))\n",
    "\n",
    "p_ipre_isym_dead = np.convolve(p_ipre_to_isym,p_isym_to_dead)[:T]\n",
    "\n",
    "tau_I_to_R = np.mean(np.outer(asym_frac_ages,p_iasy_to_resi) \\\n",
    "    + np.outer((1-asym_frac_ages)*(1-dead_frac_ages),p_ipre_isym_resi) \\\n",
    "    + np.outer((1-asym_frac_ages)*(dead_frac_ages),p_ipre_isym_dead),axis = 0)\n",
    "\n"
   ]
  },
  {
   "cell_type": "code",
   "execution_count": 14,
   "metadata": {},
   "outputs": [
    {
     "data": {
      "text/plain": [
       "<matplotlib.legend.Legend at 0x7f086208d910>"
      ]
     },
     "execution_count": 14,
     "metadata": {},
     "output_type": "execute_result"
    },
    {
     "data": {
      "image/png": "[encoded data removed]",
      "text/plain": [
       "<Figure size 432x288 with 1 Axes>"
      ]
     },
     "metadata": {
      "needs_background": "light"
     },
     "output_type": "display_data"
    }
   ],
   "source": [
    "##plot\n",
    "\n",
    "plt.plot(tau_E_to_I, label = \"E->I\")\n",
    "plt.plot(tau_I_to_R, label = \"I->R\")\n",
    "plt.legend()"
   ]
  },
  {
   "cell_type": "code",
   "execution_count": 16,
   "metadata": {},
   "outputs": [],
   "source": [
    "# save data for fit (in julia)\n",
    "np.savetxt(\"tau_E_to_I.txt\",tau_E_to_I)\n",
    "np.savetxt(\"tau_I_to_R.txt\",tau_I_to_R)"
   ]
  },
  {
   "cell_type": "code",
   "execution_count": null,
   "metadata": {},
   "outputs": [],
   "source": []
  }
 ],
 "metadata": {
  "kernelspec": {
   "display_name": "Python 3",
   "language": "python",
   "name": "python3"
  },
  "language_info": {
   "codemirror_mode": {
    "name": "ipython",
    "version": 3
   },
   "file_extension": ".py",
   "mimetype": "text/x-python",
   "name": "python",
   "nbconvert_exporter": "python",
   "pygments_lexer": "ipython3",
   "version": "3.7.9"
  }
 },
 "nbformat": 4,
 "nbformat_minor": 4
}
